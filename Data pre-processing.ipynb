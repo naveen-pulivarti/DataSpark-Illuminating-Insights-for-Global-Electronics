{
 "cells": [
  {
   "cell_type": "markdown",
   "id": "9fe6a282-2c77-4880-96f4-bb10b4a60172",
   "metadata": {},
   "source": [
    "# Data pre-processing using Pandas"
   ]
  },
  {
   "cell_type": "code",
   "execution_count": 3,
   "id": "9003ebd4-e26b-44c6-9fd2-0325de5dfaaa",
   "metadata": {},
   "outputs": [],
   "source": [
    "import pandas as pd\n",
    "\n",
    "# Load Exchange Rates data and convert the 'Date' column to datetime format\n",
    "df = pd.read_csv(r\"C:\\Users\\saina\\OneDrive\\Desktop\\PROJECT 2\\csv files\\Exchange_Rates.csv\")\n",
    "df['Date'] = pd.to_datetime(df['Date'])\n",
    "Exchange_rates_df = df  # Store the cleaned Exchange Rates DataFrame\n",
    "\n",
    "# Load Stores data, convert 'Open Date' to datetime format, and fill NaN values with 0\n",
    "df = pd.read_csv(r\"C:\\Users\\saina\\OneDrive\\Desktop\\PROJECT 2\\csv files\\Stores.csv\")\n",
    "df['Open Date'] = pd.to_datetime(df['Open Date'])\n",
    "df = df.fillna(0)  # For online stores, square meters column is NaN, so set it to 0\n",
    "Stores_df = df  # Store the cleaned Stores DataFrame\n",
    "\n",
    "# Load Products data, clean 'Unit Cost USD' and 'Unit Price USD' columns by removing '$' and ',' and converting to float\n",
    "df = pd.read_csv(r\"C:\\Users\\saina\\OneDrive\\Desktop\\PROJECT 2\\csv files\\Products.csv\")\n",
    "df['Unit Cost USD'] = df['Unit Cost USD'].str.replace('$', '').str.replace(',', '').astype(float)\n",
    "df['Unit Price USD'] = df['Unit Price USD'].str.replace('$', '').str.replace(',', '').astype(float)\n",
    "Products_df = df  # Store the cleaned Products DataFrame\n",
    "\n",
    "# Load Customers data, handle missing state codes, and convert 'Birthday' to datetime format\n",
    "df = pd.read_csv(r\"C:\\Users\\saina\\OneDrive\\Desktop\\PROJECT 2\\csv files\\Customers.csv\", encoding='ISO-8859-1')   \n",
    "df['State Code'] = df['State Code'].fillna('Napoli')  # Fill missing state codes with 'Napoli'\n",
    "df['Birthday'] = pd.to_datetime(df['Birthday'])  # Convert 'Birthday' to datetime format\n",
    "Customers_df = df  # Store the cleaned Customers DataFrame\n",
    "\n",
    "# Load Sales data, convert 'Order Date' and 'Delivery Date' to datetime format\n",
    "df = pd.read_csv(r\"C:\\Users\\saina\\OneDrive\\Desktop\\PROJECT 2\\csv files\\Sales.csv\")\n",
    "df['Order Date'] = pd.to_datetime(df['Order Date'])\n",
    "df['Delivery Date'] = pd.to_datetime(df['Delivery Date'])\n",
    "\n",
    "# Fill null delivery dates with the order date plus 5 days (average delivery time)\n",
    "df.loc[df['Delivery Date'].isna(), 'Delivery Date'] = df['Order Date'] + pd.Timedelta(days=5)\n",
    "Sales_df = df  # Store the cleaned Sales DataFrame\n",
    "\n",
    "# The average duration for delivery is calculated to fill the null values in Delivery Date column but commented out for now\n",
    "# not_null_df = df[df['Delivery Date'].notna()]\n",
    "# not_null_df['Order Date'] = pd.to_datetime(not_null_df['Order Date'])\n",
    "# not_null_df['Delivery Date'] = pd.to_datetime(not_null_df['Delivery Date'])\n",
    "# not_null_df['Duration'] = (not_null_df['Delivery Date'] - not_null_df['Order Date']).dt.days\n",
    "# average_duration = not_null_df['Duration'].mean()\n",
    "# print(\"Average Duration overall:\", average_duration)  # Output of the average duration"
   ]
  },
  {
   "cell_type": "code",
   "execution_count": null,
   "id": "1f9b92e9-a120-4447-a8db-0ebaf1455564",
   "metadata": {},
   "outputs": [],
   "source": []
  },
  {
   "cell_type": "markdown",
   "id": "71995058-3ca4-4ebc-acce-5860c997a91a",
   "metadata": {},
   "source": [
    "# Merging"
   ]
  },
  {
   "cell_type": "code",
   "execution_count": 4,
   "id": "df01edd3-018b-491f-a097-d4c48a0f0f8b",
   "metadata": {},
   "outputs": [],
   "source": [
    "# Merge Sales data with Customers data on 'CustomerKey'\n",
    "sales_customers_df = pd.merge(Sales_df, Customers_df, on='CustomerKey', how='left')"
   ]
  },
  {
   "cell_type": "code",
   "execution_count": 5,
   "id": "6c829d23-80b7-4696-8341-c6904047d82a",
   "metadata": {},
   "outputs": [],
   "source": [
    "# Merge the resulting DataFrame with Products data on 'ProductKey'\n",
    "sales_customers_products_df = pd.merge(sales_customers_df, Products_df, on='ProductKey', how='left')"
   ]
  },
  {
   "cell_type": "code",
   "execution_count": 6,
   "id": "3b3027d7-e458-4167-b1c1-77448895bd14",
   "metadata": {},
   "outputs": [],
   "source": [
    "# Merge Sales data with Products data on 'ProductKey'\n",
    "sales_products_df = pd.merge(Sales_df, Products_df, on='ProductKey', how='left')"
   ]
  },
  {
   "cell_type": "code",
   "execution_count": 7,
   "id": "dd6bda52-4e13-4894-886a-88760fb3e991",
   "metadata": {},
   "outputs": [],
   "source": [
    "# Merge Sales data with Stores data on 'StoreKey'\n",
    "sales_stores_df = pd.merge(Sales_df, Stores_df, on='StoreKey', how='left')"
   ]
  },
  {
   "cell_type": "code",
   "execution_count": 8,
   "id": "5c7007e7-7776-45a9-b508-bac5242bc785",
   "metadata": {},
   "outputs": [],
   "source": [
    "# Merge sales_products_df with Exchange Rates data on 'Order Date' and 'Currency Code'\n",
    "Sales_products_Exchangerates_df = pd.merge(\n",
    "    sales_products_df,\n",
    "    Exchange_rates_df[['Date', 'Currency', 'Exchange']],  # Selecting only the needed columns\n",
    "    left_on=['Order Date', 'Currency Code'],  # Columns in sales_products_df\n",
    "    right_on=['Date', 'Currency'],  # Columns in exchange_rates_df\n",
    "    how='left'  # Use 'left' to keep all rows from sales_products_df\n",
    ")"
   ]
  },
  {
   "cell_type": "code",
   "execution_count": null,
   "id": "2f73c744-74ea-4f98-b679-575f78289e33",
   "metadata": {},
   "outputs": [],
   "source": [
    "# Note: The merged DataFrames re not used in any further analyses or visualizations in Power BI or SQL."
   ]
  },
  {
   "cell_type": "code",
   "execution_count": null,
   "id": "0dd70a18-63fd-436f-b730-707bfc061176",
   "metadata": {},
   "outputs": [],
   "source": []
  },
  {
   "cell_type": "markdown",
   "id": "bc3e648f-fc3c-4aef-a001-1a316e255faf",
   "metadata": {},
   "source": [
    "# Storing in MySQL database"
   ]
  },
  {
   "cell_type": "markdown",
   "id": "fc5957dc-4e17-4080-9b3f-75d10f279a46",
   "metadata": {},
   "source": [
    "### Sales table\n"
   ]
  },
  {
   "cell_type": "code",
   "execution_count": null,
   "id": "99b54244-432c-4f69-835b-546dd1366c23",
   "metadata": {},
   "outputs": [],
   "source": [
    "import mysql.connector\n",
    "\n",
    "con = mysql.connector.connect(\n",
    "    host=\"localhost\",\n",
    "    user=\"root\",\n",
    "    password=\"12345678\"\n",
    ")\n",
    "cursor = con.cursor()\n",
    "\n",
    "cursor.execute(\"create database if not exists DataSpark\")\n",
    "cursor.execute(\"use DataSpark\")\n",
    "\n",
    "query = \"\"\"CREATE TABLE if not exists sales (\n",
    "    Order_Number INT,\n",
    "    Line_Item INT,\n",
    "    Order_Date DATE,\n",
    "    Delivery_Date DATE,\n",
    "    Customer_Key INT,\n",
    "    Store_Key INT,\n",
    "    Product_Key INT,\n",
    "    Quantity INT,\n",
    "    Currency_Code VARCHAR(255)\n",
    ")\"\"\"\n",
    "\n",
    "cursor.execute(query)\n",
    "\n",
    "insert_query = \"\"\"\n",
    "INSERT INTO sales (Order_Number, Line_Item, Order_Date, Delivery_Date, Customer_Key, Store_Key, Product_Key, Quantity, Currency_Code)\n",
    "VALUES (%s, %s, %s, %s, %s, %s, %s, %s, %s)\n",
    "\"\"\"\n",
    "\n",
    "# Convert DataFrame to list of tuples for insertion\n",
    "data_to_insert = Sales_df.values.tolist()\n",
    "\n",
    "# Execute insertion\n",
    "cursor.executemany(insert_query, data_to_insert)\n",
    "\n",
    "# Commit and close\n",
    "con.commit()\n",
    "cursor.close()\n",
    "con.close()"
   ]
  },
  {
   "cell_type": "markdown",
   "id": "566f80b2-b661-446e-85c9-3df3a4ead877",
   "metadata": {},
   "source": [
    "### Products table"
   ]
  },
  {
   "cell_type": "code",
   "execution_count": null,
   "id": "abad5588-33c3-40a2-abcb-0a9e65e8a0d2",
   "metadata": {},
   "outputs": [],
   "source": [
    "import mysql.connector\n",
    "\n",
    "con = mysql.connector.connect(\n",
    "    host=\"localhost\",\n",
    "    user=\"root\",\n",
    "    password=\"12345678\",\n",
    "    database=\"DataSpark\"\n",
    ")\n",
    "cursor = con.cursor()\n",
    "\n",
    "query = \"\"\"CREATE TABLE if not exists products (\n",
    "    Product_Key INT,\n",
    "    Product_Name VARCHAR(255),\n",
    "    Brand VARCHAR(255),\n",
    "    Color VARCHAR(255),\n",
    "    Unit_Cost_USD DECIMAL(10, 2),\n",
    "    Unit_Price_USD DECIMAL(10, 2),\n",
    "    Subcategory_Key INT,\n",
    "    Subcategory VARCHAR(255),\n",
    "    CategoryKey INT,\n",
    "    Category VARCHAR(255)\n",
    ")\"\"\"\n",
    "\n",
    "cursor.execute(query)\n",
    "\n",
    "insert_query = \"\"\"\n",
    "INSERT INTO products (Product_Key, Product_Name, Brand, Color, Unit_Cost_USD, Unit_Price_USD, Subcategory_Key, Subcategory, CategoryKey, Category)\n",
    "VALUES (%s, %s, %s, %s, %s, %s, %s, %s, %s, %s)\n",
    "\"\"\"\n",
    "\n",
    "# Convert DataFrame to list of tuples for insertion\n",
    "data_to_insert = Products_df.values.tolist()\n",
    "\n",
    "# Execute insertion\n",
    "cursor.executemany(insert_query, data_to_insert)\n",
    "\n",
    "# Commit and close\n",
    "con.commit()\n",
    "cursor.close()\n",
    "con.close()"
   ]
  },
  {
   "cell_type": "markdown",
   "id": "e96e2e2a-65b2-4a14-a200-5b2e81b302ae",
   "metadata": {},
   "source": [
    "### Customers table"
   ]
  },
  {
   "cell_type": "code",
   "execution_count": null,
   "id": "3c824726-8ee2-4ad5-8ebc-d35860a88f8e",
   "metadata": {},
   "outputs": [],
   "source": [
    "import mysql.connector\n",
    "\n",
    "# Establishing connection to MySQL\n",
    "con = mysql.connector.connect(\n",
    "    host=\"localhost\",\n",
    "    user=\"root\",\n",
    "    password=\"12345678\",\n",
    "    database=\"DataSpark\"\n",
    ")\n",
    "cursor = con.cursor()\n",
    "\n",
    "# Creating the customers table\n",
    "query = \"\"\"CREATE TABLE IF NOT EXISTS customers (\n",
    "    Customer_Key INT,\n",
    "    Gender VARCHAR(50),\n",
    "    Name VARCHAR(255),\n",
    "    City VARCHAR(255),\n",
    "    State_Code VARCHAR(50),\n",
    "    State VARCHAR(255),\n",
    "    Zip_Code VARCHAR(50),\n",
    "    Country VARCHAR(255),\n",
    "    Continent VARCHAR(255),\n",
    "    Birthday DATE\n",
    ")\"\"\"\n",
    "cursor.execute(query)\n",
    "\n",
    "# Inserting data into customers table\n",
    "insert_query = \"\"\"\n",
    "INSERT INTO customers (Customer_Key, Gender, Name, City, State_Code, State, Zip_Code, Country, Continent, Birthday)\n",
    "VALUES (%s, %s, %s, %s, %s, %s, %s, %s, %s, %s)\n",
    "\"\"\"\n",
    "\n",
    "# Convert DataFrame to list of tuples for insertion\n",
    "data_to_insert = Customers_df.values.tolist()\n",
    "\n",
    "# Execute the insertion\n",
    "cursor.executemany(insert_query, data_to_insert)\n",
    "\n",
    "# Commit the changes and close the connection\n",
    "con.commit()\n",
    "cursor.close()\n",
    "con.close()\n"
   ]
  },
  {
   "cell_type": "markdown",
   "id": "e5c655fc-05b7-4d7e-b180-9659ec035ef1",
   "metadata": {},
   "source": [
    "### Stores table"
   ]
  },
  {
   "cell_type": "code",
   "execution_count": null,
   "id": "145141de-1717-47e2-a620-9e5f8e8e80c9",
   "metadata": {},
   "outputs": [],
   "source": [
    "import mysql.connector\n",
    "\n",
    "# Establishing connection to MySQL\n",
    "con = mysql.connector.connect(\n",
    "    host=\"localhost\",\n",
    "    user=\"root\",\n",
    "    password=\"12345678\",\n",
    "    database=\"DataSpark\"\n",
    ")\n",
    "cursor = con.cursor()\n",
    "\n",
    "# Creating the stores table\n",
    "query = \"\"\"CREATE TABLE IF NOT EXISTS stores (\n",
    "    Store_Key INT,\n",
    "    Country VARCHAR(255),\n",
    "    State VARCHAR(255),\n",
    "    Square_Meters FLOAT,\n",
    "    Open_Date DATE\n",
    ")\"\"\"\n",
    "cursor.execute(query)\n",
    "\n",
    "# Inserting data into stores table\n",
    "insert_query = \"\"\"\n",
    "INSERT INTO stores (Store_Key, Country, State, Square_Meters, Open_Date)\n",
    "VALUES (%s, %s, %s, %s, %s)\n",
    "\"\"\"\n",
    "\n",
    "# Convert DataFrame to list of tuples for insertion\n",
    "data_to_insert = Stores_df.values.tolist()\n",
    "\n",
    "# Execute the insertion\n",
    "cursor.executemany(insert_query, data_to_insert)\n",
    "\n",
    "# Commit the changes and close the connection\n",
    "con.commit()\n",
    "cursor.close()\n",
    "con.close()\n"
   ]
  },
  {
   "cell_type": "markdown",
   "id": "35c9bc40-fc11-4c9e-920b-a38f13bc7a0b",
   "metadata": {},
   "source": [
    "### Exchange_rates table"
   ]
  },
  {
   "cell_type": "code",
   "execution_count": null,
   "id": "a47db313-7aa5-4af5-8d62-946503417cec",
   "metadata": {},
   "outputs": [],
   "source": [
    "import mysql.connector\n",
    "\n",
    "# Establish the connection\n",
    "con = mysql.connector.connect(\n",
    "    host=\"localhost\",\n",
    "    user=\"root\",\n",
    "    password=\"12345678\",\n",
    "    database=\"DataSpark\"\n",
    ")\n",
    "cursor = con.cursor()\n",
    "\n",
    "# Create the exchange_rates table\n",
    "query = \"\"\"CREATE TABLE IF NOT EXISTS exchange_rates (\n",
    "    Date DATE,\n",
    "    Currency VARCHAR(10),\n",
    "    Exchange FLOAT\n",
    ")\"\"\"\n",
    "\n",
    "cursor.execute(query)\n",
    "\n",
    "# Prepare the insert query\n",
    "insert_query = \"\"\"\n",
    "INSERT INTO exchange_rates (Date, Currency, Exchange)\n",
    "VALUES (%s, %s, %s)\n",
    "\"\"\"\n",
    "\n",
    "# Convert DataFrame to list of tuples for insertion\n",
    "data_to_insert = Exchange_rates_df.values.tolist()\n",
    "\n",
    "# Execute the insertion\n",
    "cursor.executemany(insert_query, data_to_insert)\n",
    "\n",
    "# Commit the transaction and close con\n",
    "con.commit()\n",
    "cursor.close()\n",
    "con.close()\n"
   ]
  },
  {
   "cell_type": "markdown",
   "id": "f8c38a37-fe4e-44d8-b066-96e8e293537e",
   "metadata": {},
   "source": [
    "### Check all the tables are created or not"
   ]
  },
  {
   "cell_type": "code",
   "execution_count": 2,
   "id": "52c96104-b92e-4969-b726-10b7999c980d",
   "metadata": {},
   "outputs": [
    {
     "name": "stdout",
     "output_type": "stream",
     "text": [
      "('customers',)\n",
      "('exchange_rates',)\n",
      "('products',)\n",
      "('sales',)\n",
      "('stores',)\n"
     ]
    }
   ],
   "source": [
    "import mysql.connector\n",
    "\n",
    "con = mysql.connector.connect(\n",
    "    host=\"localhost\",\n",
    "    user=\"root\",\n",
    "    password=\"12345678\",\n",
    "    database=\"DataSpark\"\n",
    ")\n",
    "cursor = con.cursor()\n",
    "cursor.execute(\"show tables\")\n",
    "for i in cursor:\n",
    "    print(i)"
   ]
  },
  {
   "cell_type": "code",
   "execution_count": null,
   "id": "4f242d46-f989-488d-acd7-a831e5ae954c",
   "metadata": {},
   "outputs": [],
   "source": []
  }
 ],
 "metadata": {
  "kernelspec": {
   "display_name": "Python 3 (ipykernel)",
   "language": "python",
   "name": "python3"
  },
  "language_info": {
   "codemirror_mode": {
    "name": "ipython",
    "version": 3
   },
   "file_extension": ".py",
   "mimetype": "text/x-python",
   "name": "python",
   "nbconvert_exporter": "python",
   "pygments_lexer": "ipython3",
   "version": "3.12.4"
  }
 },
 "nbformat": 4,
 "nbformat_minor": 5
}
